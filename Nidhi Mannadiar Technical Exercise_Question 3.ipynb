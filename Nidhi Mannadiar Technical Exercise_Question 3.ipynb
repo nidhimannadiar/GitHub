{
 "cells": [
  {
   "cell_type": "code",
   "execution_count": 9,
   "metadata": {},
   "outputs": [],
   "source": [
    "USER='nidhimannadiar'\n",
    "API_TOKEN=' 25b3e98ac0e164bc10737a4013ebf318c695b4cf'\n",
    "GIT_API_URL='https://api.github.com'\n",
    "\n",
    "def get_api(url):\n",
    "    try:\n",
    "        request = urllib2.Request(GIT_API_URL + url)\n",
    "        base64string = base64.encodestring('%s/token:%s' % (USER, API_TOKEN)).replace('\\n', '')\n",
    "        request.add_header(\"Authorization\", \"Basic %s\" % base64string)\n",
    "        result = urllib2.urlopen(request)\n",
    "        result.close()\n",
    "    except:\n",
    "        print('Failed to get api request from %s' % url)"
   ]
  },
  {
   "cell_type": "code",
   "execution_count": null,
   "metadata": {
    "collapsed": true
   },
   "outputs": [],
   "source": [
    ".gitattributes\n",
    "KNN.ipynb\n",
    "KivaCrowdFunding.r\n",
    "mental_health_illness.ipynb\n",
    "movie_exploratory_data_analysis.ipynb"
   ]
  }
 ],
 "metadata": {
  "kernelspec": {
   "display_name": "Python 3",
   "language": "python",
   "name": "python3"
  },
  "language_info": {
   "codemirror_mode": {
    "name": "ipython",
    "version": 3
   },
   "file_extension": ".py",
   "mimetype": "text/x-python",
   "name": "python",
   "nbconvert_exporter": "python",
   "pygments_lexer": "ipython3",
   "version": "3.6.1"
  }
 },
 "nbformat": 4,
 "nbformat_minor": 2
}
